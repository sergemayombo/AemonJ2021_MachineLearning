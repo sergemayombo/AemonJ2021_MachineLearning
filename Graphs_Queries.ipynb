{
  "cells": [
    {
      "cell_type": "markdown",
      "metadata": {
        "id": "0fD4NK2JfW7D"
      },
      "source": [
        "# Basic Graph Queries with ArangoDB"
      ]
    },
    {
      "cell_type": "markdown",
      "metadata": {
        "id": "KSzJgFmufW7G"
      },
      "source": [
        "<a href=\"https://colab.research.google.com/github/joerg84/Graph_Powered_ML_Workshop/blob/master/Graphs_Queries.ipynb\" target=\"_parent\"><img src=\"https://colab.research.google.com/assets/colab-badge.svg\" alt=\"Open In Colab\"/></a>"
      ]
    },
    {
      "cell_type": "markdown",
      "metadata": {
        "id": "7u_H_Ry3fW7I"
      },
      "source": [
        "In this notebook we explore some basic graph queries using [ArangoDB](https://www.arangodb.com), including simple traversals and shortest path queries. "
      ]
    },
    {
      "cell_type": "markdown",
      "metadata": {
        "id": "Q7dCfgRcfW7J"
      },
      "source": [
        "The first step is to setup our environment:"
      ]
    },
    {
      "cell_type": "code",
      "execution_count": null,
      "metadata": {
        "id": "7m-Qu2uafW7K"
      },
      "outputs": [],
      "source": [
        "%%capture\n",
        "!git clone https://github.com/joerg84/Graph_Powered_ML_Workshop.git\n",
        "!rsync -av Graph_Powered_ML_Workshop/ ./ --exclude=.git\n",
        "!pip3 install pyarango"
      ]
    },
    {
      "cell_type": "code",
      "execution_count": null,
      "metadata": {
        "id": "NKesHFqEfW7M"
      },
      "outputs": [],
      "source": [
        "import json\n",
        "import requests\n",
        "import sys\n",
        "import oasis\n",
        "\n",
        "from pyArango.connection import *\n",
        "from pyArango.collection import Collection, Edges, Field\n",
        "from pyArango.graph import Graph, EdgeDefinition\n",
        "from pyArango.collection import BulkOperation as BulkOperation"
      ]
    },
    {
      "cell_type": "markdown",
      "metadata": {
        "id": "XETrDtTlfW7N"
      },
      "source": [
        "Next, create a temporary database instance backed by ArangoDB's Managed Cloud Service Oasis:"
      ]
    },
    {
      "cell_type": "code",
      "execution_count": null,
      "metadata": {
        "id": "V996Ga0LfW7N"
      },
      "outputs": [],
      "source": [
        "# Retrieve tmp credentials from ArangoDB Tutorial Service\n",
        "login = oasis.getTempCredentials()\n",
        "\n",
        "# Connect to the temp database\n",
        "conn = oasis.connect(login)\n",
        "db = conn[login[\"dbName\"]] "
      ]
    },
    {
      "cell_type": "code",
      "execution_count": null,
      "metadata": {
        "id": "qLw0UMkAfW7O"
      },
      "outputs": [],
      "source": [
        "print(\"https://\"+login[\"hostname\"]+\":\"+str(login[\"port\"]))\n",
        "print(\"Username: \" + login[\"username\"])\n",
        "print(\"Password: \" + login[\"password\"])\n",
        "print(\"Database: \" + login[\"dbName\"])"
      ]
    },
    {
      "cell_type": "markdown",
      "metadata": {
        "id": "A2Sz7-rCfW7P"
      },
      "source": [
        "# First Graph"
      ]
    },
    {
      "cell_type": "markdown",
      "metadata": {
        "id": "ysv6ZCIFfW7Q"
      },
      "source": [
        "Recall\n",
        "\n",
        "```\n",
        "@prefix : <http://www.snee.com/ns/demo#> .\n",
        ":Jane :hasParent :Gene .\n",
        ":Gene :hasParent :Pat ;\n",
        "      :gender    :female .\n",
        ":Joan :hasParent :Pat ;\n",
        "      :gender    :female .\n",
        ":Pat  :gender    :male .\n",
        ":Mike :hasParent :Joan .\n",
        "```\n",
        "\n"
      ]
    },
    {
      "cell_type": "code",
      "execution_count": null,
      "metadata": {
        "id": "nZjylfY0fW7R"
      },
      "outputs": [],
      "source": [
        "from pyArango.collection import Collection, Field\n",
        "from pyArango.graph import Graph, EdgeDefinition\n",
        "\n",
        "class Person(Collection):\n",
        "    _fields = {\n",
        "        \"gender\" : Field(),\n",
        "    }\n",
        "\n",
        "class Parent(Edges):\n",
        "    _fields = {}\n",
        "\n",
        "class Family(Graph) :\n",
        "    _edgeDefinitions = [EdgeDefinition(\"Parent\", fromCollections=[\"Person\"], toCollections=[\"Person\"])]\n",
        " \n",
        "db.createCollection(\"Person\")\n",
        "db.createCollection(\"Parent\")\n",
        "# same for the graph\n",
        "familyGraph = db.createGraph(\"Family\")\n",
        "\n",
        "\n",
        "\n",
        "# creating some person\n",
        "p1 = familyGraph.createVertex('Person', {\"_key\": \"Jane\"})\n",
        "p2 = familyGraph.createVertex('Person', {\"_key\": \"Gene\", \"gender\" : \"female\"})\n",
        "p3 = familyGraph.createVertex('Person', {\"_key\": \"Joan\", \"gender\" : \"female\"})\n",
        "p4 = familyGraph.createVertex('Person', {\"_key\": \"Pat\", \"gender\" : \"male\"})\n",
        "p5 = familyGraph.createVertex('Person', {\"_key\": \"Mike\"})\n",
        "\n",
        "# linking them\n",
        "e1 = familyGraph.link('Parent', p1, p2, {})\n",
        "e2 = familyGraph.link('Parent', p2, p4, {})\n",
        "e3 = familyGraph.link('Parent', p3, p4, {})\n",
        "e3 = familyGraph.link('Parent', p5, p3, {})"
      ]
    },
    {
      "cell_type": "markdown",
      "metadata": {
        "id": "r8wnVvpgfW7S"
      },
      "source": [
        "# Train Network"
      ]
    },
    {
      "cell_type": "markdown",
      "metadata": {
        "id": "O__lISCKfW7S"
      },
      "source": [
        "Lets define a structure for a simple train network."
      ]
    },
    {
      "cell_type": "markdown",
      "metadata": {
        "id": "rimv0kgBfW7S"
      },
      "source": [
        "![trainNetwork](https://github.com/joerg84/Graph_Powered_ML_Workshop/blob/master/img/train_network.png?raw=1)"
      ]
    },
    {
      "cell_type": "code",
      "execution_count": null,
      "metadata": {
        "id": "3YNctD95fW7T"
      },
      "outputs": [],
      "source": [
        "from pyArango.collection import Collection, Field\n",
        "from pyArango.graph import Graph, EdgeDefinition\n",
        "\n",
        "class Cities(Collection):\n",
        "    _fields = {\n",
        "        \"country\": Field()\n",
        "    }\n",
        "\n",
        "class Connection(Edges):\n",
        "    _fields = {\n",
        "        \"travel_time\": Field()\n",
        "    }\n",
        "\n",
        "class RailNetwork(Graph) :\n",
        "    _edgeDefinitions = [EdgeDefinition(\"Connection\", fromCollections=[\"Cities\"], toCollections=[\"Cities\"])]\n",
        "    _orphanedCollections = []\n",
        "\n",
        "db.createCollection(\"Cities\")\n",
        "db.createCollection(\"Connection\")\n",
        "# same for the graph\n",
        "railNetworkGraph = db.createGraph(\"RailNetwork\", replicationFactor=3)\n",
        "\n",
        "# creating some documents\n",
        "h1 = railNetworkGraph.createVertex('Cities', {\"_key\": \"Berlin\", \"country\" : \"Germany\"})\n",
        "h2 = railNetworkGraph.createVertex('Cities', {\"_key\": \"Boston\", \"country\" : \"USA\"})\n",
        "\n",
        "# linking them\n",
        "e1 = railNetworkGraph.link('Connection', h1, h2, {\"distance_km\": 6077})\n",
        "\n",
        "# Lookup berlin vertex\n",
        "berlin = db[\"Cities\"][\"Berlin\"] \n",
        "\n",
        "# As we unfortunately cannot travel from Berlin to Boston by train....\n",
        "railNetworkGraph.unlink('Connection',berlin, h2)"
      ]
    },
    {
      "cell_type": "markdown",
      "metadata": {
        "id": "SEbkfuUQfW7T"
      },
      "source": [
        "Next let us add more cities and connections: "
      ]
    },
    {
      "cell_type": "code",
      "execution_count": null,
      "metadata": {
        "id": "Rq8HoiJhfW7U"
      },
      "outputs": [],
      "source": [
        "\n",
        "cities = [\n",
        "    \"Inverness\",\n",
        "    \"Aberdeen\",\n",
        "    \"Leuchars\",\n",
        "    \"StAndrews\",\n",
        "    \"Edinburgh\",\n",
        "    \"Glasgow\",\n",
        "    \"York\",\n",
        "    \"Cologne\",\n",
        "    \"Carlisle\",\n",
        "    \"Birmingham\",\n",
        "    \"London\",\n",
        "    \"Brussels\",\n",
        "    \"Toronto\",\n",
        "    \"Winnipeg\",\n",
        "    \"Saskatoon\",\n",
        "    \"Edmonton\",\n",
        "    \"Jasper\",\n",
        "    \"Vancouver\"\n",
        "  ];\n",
        "\n",
        "connections = [\n",
        "    ( \"Inverness\", \"Aberdeen\", 3, 2.5 ),\n",
        "    ( \"Aberdeen\", \"Leuchars\", 1.5, 1 ),\n",
        "    ( \"Leuchars\", \"Edinburgh\", 1.5, 3 ),\n",
        "    ( \"Edinburgh\", \"Glasgow\", 1, 1 ),\n",
        "    ( \"Edinburgh\", \"York\", 3.5, 4 ),\n",
        "    ( \"Glasgow\", \"Carlisle\", 1, 1 ),\n",
        "    ( \"Carlisle\", \"York\", 2.5, 3.5 ),\n",
        "    ( \"Carlisle\", \"Birmingham\", 2.0, 1 ),\n",
        "    ( \"Birmingham\", \"London\", 1.5, 2.5 ),\n",
        "    ( \"Leuchars\", \"StAndrews\", 0.2, 0.2 ),\n",
        "    ( \"York\", \"London\", 1.8, 2.0 ),\n",
        "    ( \"London\", \"Brussels\", 2.5, 3.5 ),\n",
        "    ( \"Brussels\", \"Cologne\", 2, 1.5 ),\n",
        "    ( \"Toronto\", \"Winnipeg\", 36, 35 ),\n",
        "    ( \"Winnipeg\", \"Saskatoon\", 12, 5 ),\n",
        "    ( \"Saskatoon\", \"Edmonton\", 12, 17 ),\n",
        "    ( \"Edmonton\", \"Jasper\", 6, 5 ),\n",
        "    ( \"Jasper\", \"Vancouver\", 12, 13 )\n",
        "]\n",
        "\n",
        "for city in cities:\n",
        "    railNetworkGraph.createVertex('Cities', {\"_key\": city})\n",
        "\n",
        "    \n",
        "for city1, city2, time1, time2  in connections:\n",
        "        # Note this is a directional graph \n",
        "        railNetworkGraph.link('Connection', db[\"Cities\"][city1], db[\"Cities\"][city2], {\"travel_time\": time1})\n",
        "        railNetworkGraph.link('Connection', db[\"Cities\"][city2], db[\"Cities\"][city1], {\"travel_time\": time2})\n"
      ]
    },
    {
      "cell_type": "markdown",
      "metadata": {
        "id": "tygpo3uKfW7U"
      },
      "source": [
        "We can login into the database using the above login credentials and view the RailNetwork graph from the Graphs tab."
      ]
    },
    {
      "cell_type": "markdown",
      "metadata": {
        "id": "3F3ARUuKfW7U"
      },
      "source": [
        "![trainNetwork](https://github.com/joerg84/Graph_Powered_ML_Workshop/blob/master/img/arango_train_graph.png?raw=1)"
      ]
    },
    {
      "cell_type": "markdown",
      "metadata": {
        "id": "_0GtHHtmfW7V"
      },
      "source": [
        "While we are here, to understand the underlying format let us also visit the collections tab."
      ]
    },
    {
      "cell_type": "markdown",
      "metadata": {
        "id": "RjLIPcdSfW7W"
      },
      "source": [
        "![trainNetwork](https://github.com/joerg84/Graph_Powered_ML_Workshop/blob/master/img/arango_collections.png?raw=1)"
      ]
    },
    {
      "cell_type": "markdown",
      "metadata": {
        "id": "0JFH3BipfW7W"
      },
      "source": [
        "Finally: Our first Graph Traversal"
      ]
    },
    {
      "cell_type": "code",
      "execution_count": null,
      "metadata": {
        "id": "HXgjJsepfW7X"
      },
      "outputs": [],
      "source": [
        "reachabilty_query = \"\"\"WITH Cities\n",
        "FOR vertex, edge, path\n",
        "  IN 1..5 \n",
        "  OUTBOUND 'Cities/London'\n",
        "  GRAPH 'RailNetwork'\n",
        "  FILTER SUM(path.edges[*].travel_time) < 5\n",
        "  return \n",
        "  { 'city': vertex._key,\n",
        "    'path': CONCAT_SEPARATOR(\" -> \", path.edges[*]._to)\n",
        "  }\"\"\"\n",
        "\n",
        "queryResult = db.AQLQuery(reachabilty_query, rawResults=True)\n",
        "for result in queryResult:\n",
        "    print(\"city: \" + result[\"city\"])\n",
        "    print(\"path: Cities/London -> \" + result[\"path\"])\n",
        "    print()"
      ]
    },
    {
      "cell_type": "markdown",
      "metadata": {
        "id": "zyledbeOfW7X"
      },
      "source": [
        "Next: Shortest Path"
      ]
    },
    {
      "cell_type": "code",
      "execution_count": null,
      "metadata": {
        "id": "540kM6offW7X"
      },
      "outputs": [],
      "source": [
        "shortest_path_query = \"\"\"FOR p IN OUTBOUND K_SHORTEST_PATHS 'Cities/Aberdeen' TO 'Cities/London'\n",
        "  GRAPH 'RailNetwork'\n",
        "      LIMIT 1\n",
        "      RETURN {\n",
        "          places: p.vertices[*]._key,\n",
        "          travelTimes: p.edges[*].travel_time,\n",
        "          travelTimeTotal: SUM(p.edges[*].travel_time)\n",
        "      }\"\"\"\n",
        "\n",
        "queryResult = db.AQLQuery(shortest_path_query, rawResults=True)\n",
        "for result in  queryResult:\n",
        "    print(\"places: \" +  str(result['places']))\n",
        "    print(\"intermediate travel times: \" +  str(result['travelTimes']))\n",
        "    print(\"total travel time: \" +  str(result['travelTimeTotal']))\n",
        "    print()"
      ]
    },
    {
      "cell_type": "code",
      "execution_count": null,
      "metadata": {
        "id": "zYoJignPfW7Y"
      },
      "outputs": [],
      "source": [
        "# Alternative Shortest path query with more options\n",
        "shortest_path_query = \"\"\"FOR p IN OUTBOUND K_SHORTEST_PATHS'Cities/Aberdeen' TO 'Cities/London'\n",
        "  GRAPH 'RailNetwork'\n",
        "      OPTIONS {\n",
        "      weightAttribute: \"travel_time\",\n",
        "      defaultWeight: 100\n",
        "      }\n",
        "      LIMIT 3\n",
        "      RETURN {\n",
        "          places: p.vertices[*]._key,\n",
        "          travelTimes: p.edges[*].travel_time,\n",
        "          travelTimeTotal: SUM(p.edges[*].travel_time)\n",
        "      }\"\"\"\n",
        "queryResult = db.AQLQuery(shortest_path_query, rawResults=True)\n",
        "for result in  queryResult:\n",
        "    print(\"places: \" +  str(result['places']))\n",
        "    print(\"intermediate travel times: \" +  str(result['travelTimes']))\n",
        "    print(\"total travel time: \" +  str(result['travelTimeTotal']))\n",
        "    print()"
      ]
    },
    {
      "cell_type": "markdown",
      "metadata": {
        "id": "KEaDIqtofW7Y"
      },
      "source": [
        "Next, steps: To explore more of the Graph capabilities of ArangoDB visit the [Training Center](https://www.arangodb.com/arangodb-training-center/graphs/) including many example and the free Graph Course."
      ]
    },
    {
      "cell_type": "code",
      "execution_count": null,
      "metadata": {
        "id": "7p15EURafW7Z"
      },
      "outputs": [],
      "source": [
        "# Delete collections\n",
        "db.dropAllCollections() \n",
        "db.reload()"
      ]
    }
  ],
  "metadata": {
    "colab": {
      "name": "Graphs_Queries.ipynb",
      "provenance": []
    },
    "kernelspec": {
      "display_name": "Python 3",
      "language": "python",
      "name": "python3"
    },
    "language_info": {
      "codemirror_mode": {
        "name": "ipython"
      },
      "file_extension": ".py",
      "mimetype": "text/x-python",
      "name": "python",
      "nbconvert_exporter": "python"
    }
  },
  "nbformat": 4,
  "nbformat_minor": 0
}